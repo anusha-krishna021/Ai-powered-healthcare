{
  "nbformat": 4,
  "nbformat_minor": 0,
  "metadata": {
    "colab": {
      "provenance": []
    },
    "kernelspec": {
      "name": "python3",
      "display_name": "Python 3"
    },
    "language_info": {
      "name": "python"
    }
  },
  "cells": [
    {
      "cell_type": "code",
      "execution_count": null,
      "metadata": {
        "id": "nqKRHAAdFD8G"
      },
      "outputs": [],
      "source": [
        "# @title Default title text\n",
        "import pandas as pd\n",
        "df = pd.read_csv('/content/Dataset.csv')\n"
      ]
    },
    {
      "cell_type": "code",
      "source": [
        "df.head()\n",
        "df.info()\n",
        "df.describe()\n"
      ],
      "metadata": {
        "colab": {
          "base_uri": "https://localhost:8080/",
          "height": 647
        },
        "id": "i8BjZmXTM_e9",
        "outputId": "24d4df2a-69a0-4b03-8ec5-38c2c2b7c97d"
      },
      "execution_count": null,
      "outputs": [
        {
          "output_type": "stream",
          "name": "stdout",
          "text": [
            "<class 'pandas.core.frame.DataFrame'>\n",
            "RangeIndex: 18533 entries, 0 to 18532\n",
            "Data columns (total 13 columns):\n",
            " #   Column             Non-Null Count  Dtype  \n",
            "---  ------             --------------  -----  \n",
            " 0   Age                18533 non-null  int64  \n",
            " 1   Gender             18533 non-null  object \n",
            " 2   Blood Type         18533 non-null  object \n",
            " 3   Height_cm          18533 non-null  int64  \n",
            " 4   Weight_kg          18533 non-null  int64  \n",
            " 5   BMI                18533 non-null  float64\n",
            " 6   Medical Condition  18533 non-null  object \n",
            " 7   Test Results       18533 non-null  object \n",
            " 8   Symptom            18533 non-null  object \n",
            " 9   Smoking            18533 non-null  object \n",
            " 10  Alcohol Status     18533 non-null  object \n",
            " 11  Natural Food       18533 non-null  object \n",
            " 12  Yoga               18533 non-null  object \n",
            "dtypes: float64(1), int64(3), object(9)\n",
            "memory usage: 1.8+ MB\n"
          ]
        },
        {
          "output_type": "execute_result",
          "data": {
            "text/plain": [
              "                Age     Height_cm     Weight_kg           BMI\n",
              "count  18533.000000  18533.000000  18533.000000  18533.000000\n",
              "mean      51.557654    169.985216     84.965629     29.832678\n",
              "std       19.540805     11.773365     20.452993      8.355826\n",
              "min       13.000000    150.000000     50.000000     13.850000\n",
              "25%       35.000000    160.000000     67.000000     23.230000\n",
              "50%       52.000000    170.000000     85.000000     29.170000\n",
              "75%       68.000000    180.000000    103.000000     35.690000\n",
              "max       89.000000    190.000000    120.000000     53.330000"
            ],
            "text/html": [
              "\n",
              "  <div id=\"df-f1330896-f57b-4bdb-bc1b-11d0f511dd78\" class=\"colab-df-container\">\n",
              "    <div>\n",
              "<style scoped>\n",
              "    .dataframe tbody tr th:only-of-type {\n",
              "        vertical-align: middle;\n",
              "    }\n",
              "\n",
              "    .dataframe tbody tr th {\n",
              "        vertical-align: top;\n",
              "    }\n",
              "\n",
              "    .dataframe thead th {\n",
              "        text-align: right;\n",
              "    }\n",
              "</style>\n",
              "<table border=\"1\" class=\"dataframe\">\n",
              "  <thead>\n",
              "    <tr style=\"text-align: right;\">\n",
              "      <th></th>\n",
              "      <th>Age</th>\n",
              "      <th>Height_cm</th>\n",
              "      <th>Weight_kg</th>\n",
              "      <th>BMI</th>\n",
              "    </tr>\n",
              "  </thead>\n",
              "  <tbody>\n",
              "    <tr>\n",
              "      <th>count</th>\n",
              "      <td>18533.000000</td>\n",
              "      <td>18533.000000</td>\n",
              "      <td>18533.000000</td>\n",
              "      <td>18533.000000</td>\n",
              "    </tr>\n",
              "    <tr>\n",
              "      <th>mean</th>\n",
              "      <td>51.557654</td>\n",
              "      <td>169.985216</td>\n",
              "      <td>84.965629</td>\n",
              "      <td>29.832678</td>\n",
              "    </tr>\n",
              "    <tr>\n",
              "      <th>std</th>\n",
              "      <td>19.540805</td>\n",
              "      <td>11.773365</td>\n",
              "      <td>20.452993</td>\n",
              "      <td>8.355826</td>\n",
              "    </tr>\n",
              "    <tr>\n",
              "      <th>min</th>\n",
              "      <td>13.000000</td>\n",
              "      <td>150.000000</td>\n",
              "      <td>50.000000</td>\n",
              "      <td>13.850000</td>\n",
              "    </tr>\n",
              "    <tr>\n",
              "      <th>25%</th>\n",
              "      <td>35.000000</td>\n",
              "      <td>160.000000</td>\n",
              "      <td>67.000000</td>\n",
              "      <td>23.230000</td>\n",
              "    </tr>\n",
              "    <tr>\n",
              "      <th>50%</th>\n",
              "      <td>52.000000</td>\n",
              "      <td>170.000000</td>\n",
              "      <td>85.000000</td>\n",
              "      <td>29.170000</td>\n",
              "    </tr>\n",
              "    <tr>\n",
              "      <th>75%</th>\n",
              "      <td>68.000000</td>\n",
              "      <td>180.000000</td>\n",
              "      <td>103.000000</td>\n",
              "      <td>35.690000</td>\n",
              "    </tr>\n",
              "    <tr>\n",
              "      <th>max</th>\n",
              "      <td>89.000000</td>\n",
              "      <td>190.000000</td>\n",
              "      <td>120.000000</td>\n",
              "      <td>53.330000</td>\n",
              "    </tr>\n",
              "  </tbody>\n",
              "</table>\n",
              "</div>\n",
              "    <div class=\"colab-df-buttons\">\n",
              "\n",
              "  <div class=\"colab-df-container\">\n",
              "    <button class=\"colab-df-convert\" onclick=\"convertToInteractive('df-f1330896-f57b-4bdb-bc1b-11d0f511dd78')\"\n",
              "            title=\"Convert this dataframe to an interactive table.\"\n",
              "            style=\"display:none;\">\n",
              "\n",
              "  <svg xmlns=\"http://www.w3.org/2000/svg\" height=\"24px\" viewBox=\"0 -960 960 960\">\n",
              "    <path d=\"M120-120v-720h720v720H120Zm60-500h600v-160H180v160Zm220 220h160v-160H400v160Zm0 220h160v-160H400v160ZM180-400h160v-160H180v160Zm440 0h160v-160H620v160ZM180-180h160v-160H180v160Zm440 0h160v-160H620v160Z\"/>\n",
              "  </svg>\n",
              "    </button>\n",
              "\n",
              "  <style>\n",
              "    .colab-df-container {\n",
              "      display:flex;\n",
              "      gap: 12px;\n",
              "    }\n",
              "\n",
              "    .colab-df-convert {\n",
              "      background-color: #E8F0FE;\n",
              "      border: none;\n",
              "      border-radius: 50%;\n",
              "      cursor: pointer;\n",
              "      display: none;\n",
              "      fill: #1967D2;\n",
              "      height: 32px;\n",
              "      padding: 0 0 0 0;\n",
              "      width: 32px;\n",
              "    }\n",
              "\n",
              "    .colab-df-convert:hover {\n",
              "      background-color: #E2EBFA;\n",
              "      box-shadow: 0px 1px 2px rgba(60, 64, 67, 0.3), 0px 1px 3px 1px rgba(60, 64, 67, 0.15);\n",
              "      fill: #174EA6;\n",
              "    }\n",
              "\n",
              "    .colab-df-buttons div {\n",
              "      margin-bottom: 4px;\n",
              "    }\n",
              "\n",
              "    [theme=dark] .colab-df-convert {\n",
              "      background-color: #3B4455;\n",
              "      fill: #D2E3FC;\n",
              "    }\n",
              "\n",
              "    [theme=dark] .colab-df-convert:hover {\n",
              "      background-color: #434B5C;\n",
              "      box-shadow: 0px 1px 3px 1px rgba(0, 0, 0, 0.15);\n",
              "      filter: drop-shadow(0px 1px 2px rgba(0, 0, 0, 0.3));\n",
              "      fill: #FFFFFF;\n",
              "    }\n",
              "  </style>\n",
              "\n",
              "    <script>\n",
              "      const buttonEl =\n",
              "        document.querySelector('#df-f1330896-f57b-4bdb-bc1b-11d0f511dd78 button.colab-df-convert');\n",
              "      buttonEl.style.display =\n",
              "        google.colab.kernel.accessAllowed ? 'block' : 'none';\n",
              "\n",
              "      async function convertToInteractive(key) {\n",
              "        const element = document.querySelector('#df-f1330896-f57b-4bdb-bc1b-11d0f511dd78');\n",
              "        const dataTable =\n",
              "          await google.colab.kernel.invokeFunction('convertToInteractive',\n",
              "                                                    [key], {});\n",
              "        if (!dataTable) return;\n",
              "\n",
              "        const docLinkHtml = 'Like what you see? Visit the ' +\n",
              "          '<a target=\"_blank\" href=https://colab.research.google.com/notebooks/data_table.ipynb>data table notebook</a>'\n",
              "          + ' to learn more about interactive tables.';\n",
              "        element.innerHTML = '';\n",
              "        dataTable['output_type'] = 'display_data';\n",
              "        await google.colab.output.renderOutput(dataTable, element);\n",
              "        const docLink = document.createElement('div');\n",
              "        docLink.innerHTML = docLinkHtml;\n",
              "        element.appendChild(docLink);\n",
              "      }\n",
              "    </script>\n",
              "  </div>\n",
              "\n",
              "\n",
              "    <div id=\"df-01febee1-88cc-445a-97d4-cd3d352fb202\">\n",
              "      <button class=\"colab-df-quickchart\" onclick=\"quickchart('df-01febee1-88cc-445a-97d4-cd3d352fb202')\"\n",
              "                title=\"Suggest charts\"\n",
              "                style=\"display:none;\">\n",
              "\n",
              "<svg xmlns=\"http://www.w3.org/2000/svg\" height=\"24px\"viewBox=\"0 0 24 24\"\n",
              "     width=\"24px\">\n",
              "    <g>\n",
              "        <path d=\"M19 3H5c-1.1 0-2 .9-2 2v14c0 1.1.9 2 2 2h14c1.1 0 2-.9 2-2V5c0-1.1-.9-2-2-2zM9 17H7v-7h2v7zm4 0h-2V7h2v10zm4 0h-2v-4h2v4z\"/>\n",
              "    </g>\n",
              "</svg>\n",
              "      </button>\n",
              "\n",
              "<style>\n",
              "  .colab-df-quickchart {\n",
              "      --bg-color: #E8F0FE;\n",
              "      --fill-color: #1967D2;\n",
              "      --hover-bg-color: #E2EBFA;\n",
              "      --hover-fill-color: #174EA6;\n",
              "      --disabled-fill-color: #AAA;\n",
              "      --disabled-bg-color: #DDD;\n",
              "  }\n",
              "\n",
              "  [theme=dark] .colab-df-quickchart {\n",
              "      --bg-color: #3B4455;\n",
              "      --fill-color: #D2E3FC;\n",
              "      --hover-bg-color: #434B5C;\n",
              "      --hover-fill-color: #FFFFFF;\n",
              "      --disabled-bg-color: #3B4455;\n",
              "      --disabled-fill-color: #666;\n",
              "  }\n",
              "\n",
              "  .colab-df-quickchart {\n",
              "    background-color: var(--bg-color);\n",
              "    border: none;\n",
              "    border-radius: 50%;\n",
              "    cursor: pointer;\n",
              "    display: none;\n",
              "    fill: var(--fill-color);\n",
              "    height: 32px;\n",
              "    padding: 0;\n",
              "    width: 32px;\n",
              "  }\n",
              "\n",
              "  .colab-df-quickchart:hover {\n",
              "    background-color: var(--hover-bg-color);\n",
              "    box-shadow: 0 1px 2px rgba(60, 64, 67, 0.3), 0 1px 3px 1px rgba(60, 64, 67, 0.15);\n",
              "    fill: var(--button-hover-fill-color);\n",
              "  }\n",
              "\n",
              "  .colab-df-quickchart-complete:disabled,\n",
              "  .colab-df-quickchart-complete:disabled:hover {\n",
              "    background-color: var(--disabled-bg-color);\n",
              "    fill: var(--disabled-fill-color);\n",
              "    box-shadow: none;\n",
              "  }\n",
              "\n",
              "  .colab-df-spinner {\n",
              "    border: 2px solid var(--fill-color);\n",
              "    border-color: transparent;\n",
              "    border-bottom-color: var(--fill-color);\n",
              "    animation:\n",
              "      spin 1s steps(1) infinite;\n",
              "  }\n",
              "\n",
              "  @keyframes spin {\n",
              "    0% {\n",
              "      border-color: transparent;\n",
              "      border-bottom-color: var(--fill-color);\n",
              "      border-left-color: var(--fill-color);\n",
              "    }\n",
              "    20% {\n",
              "      border-color: transparent;\n",
              "      border-left-color: var(--fill-color);\n",
              "      border-top-color: var(--fill-color);\n",
              "    }\n",
              "    30% {\n",
              "      border-color: transparent;\n",
              "      border-left-color: var(--fill-color);\n",
              "      border-top-color: var(--fill-color);\n",
              "      border-right-color: var(--fill-color);\n",
              "    }\n",
              "    40% {\n",
              "      border-color: transparent;\n",
              "      border-right-color: var(--fill-color);\n",
              "      border-top-color: var(--fill-color);\n",
              "    }\n",
              "    60% {\n",
              "      border-color: transparent;\n",
              "      border-right-color: var(--fill-color);\n",
              "    }\n",
              "    80% {\n",
              "      border-color: transparent;\n",
              "      border-right-color: var(--fill-color);\n",
              "      border-bottom-color: var(--fill-color);\n",
              "    }\n",
              "    90% {\n",
              "      border-color: transparent;\n",
              "      border-bottom-color: var(--fill-color);\n",
              "    }\n",
              "  }\n",
              "</style>\n",
              "\n",
              "      <script>\n",
              "        async function quickchart(key) {\n",
              "          const quickchartButtonEl =\n",
              "            document.querySelector('#' + key + ' button');\n",
              "          quickchartButtonEl.disabled = true;  // To prevent multiple clicks.\n",
              "          quickchartButtonEl.classList.add('colab-df-spinner');\n",
              "          try {\n",
              "            const charts = await google.colab.kernel.invokeFunction(\n",
              "                'suggestCharts', [key], {});\n",
              "          } catch (error) {\n",
              "            console.error('Error during call to suggestCharts:', error);\n",
              "          }\n",
              "          quickchartButtonEl.classList.remove('colab-df-spinner');\n",
              "          quickchartButtonEl.classList.add('colab-df-quickchart-complete');\n",
              "        }\n",
              "        (() => {\n",
              "          let quickchartButtonEl =\n",
              "            document.querySelector('#df-01febee1-88cc-445a-97d4-cd3d352fb202 button');\n",
              "          quickchartButtonEl.style.display =\n",
              "            google.colab.kernel.accessAllowed ? 'block' : 'none';\n",
              "        })();\n",
              "      </script>\n",
              "    </div>\n",
              "\n",
              "    </div>\n",
              "  </div>\n"
            ],
            "application/vnd.google.colaboratory.intrinsic+json": {
              "type": "dataframe",
              "summary": "{\n  \"name\": \"df\",\n  \"rows\": 8,\n  \"fields\": [\n    {\n      \"column\": \"Age\",\n      \"properties\": {\n        \"dtype\": \"number\",\n        \"std\": 6535.88055767932,\n        \"min\": 13.0,\n        \"max\": 18533.0,\n        \"num_unique_values\": 8,\n        \"samples\": [\n          51.557653914638756,\n          52.0,\n          18533.0\n        ],\n        \"semantic_type\": \"\",\n        \"description\": \"\"\n      }\n    },\n    {\n      \"column\": \"Height_cm\",\n      \"properties\": {\n        \"dtype\": \"number\",\n        \"std\": 6500.540090696956,\n        \"min\": 11.77336517825448,\n        \"max\": 18533.0,\n        \"num_unique_values\": 8,\n        \"samples\": [\n          169.98521556143095,\n          170.0,\n          18533.0\n        ],\n        \"semantic_type\": \"\",\n        \"description\": \"\"\n      }\n    },\n    {\n      \"column\": \"Weight_kg\",\n      \"properties\": {\n        \"dtype\": \"number\",\n        \"std\": 6525.68779397612,\n        \"min\": 20.45299252365547,\n        \"max\": 18533.0,\n        \"num_unique_values\": 8,\n        \"samples\": [\n          84.96562887821723,\n          85.0,\n          18533.0\n        ],\n        \"semantic_type\": \"\",\n        \"description\": \"\"\n      }\n    },\n    {\n      \"column\": \"BMI\",\n      \"properties\": {\n        \"dtype\": \"number\",\n        \"std\": 6542.648196981335,\n        \"min\": 8.355825818088247,\n        \"max\": 18533.0,\n        \"num_unique_values\": 8,\n        \"samples\": [\n          29.832677925861976,\n          29.17,\n          18533.0\n        ],\n        \"semantic_type\": \"\",\n        \"description\": \"\"\n      }\n    }\n  ]\n}"
            }
          },
          "metadata": {},
          "execution_count": 3
        }
      ]
    },
    {
      "cell_type": "code",
      "source": [
        "df.isnull().sum()\n"
      ],
      "metadata": {
        "colab": {
          "base_uri": "https://localhost:8080/",
          "height": 491
        },
        "id": "spyVM_awNI79",
        "outputId": "22ceeea7-4e2b-4438-9f26-fb8ef0a84724"
      },
      "execution_count": null,
      "outputs": [
        {
          "output_type": "execute_result",
          "data": {
            "text/plain": [
              "Age                  0\n",
              "Gender               0\n",
              "Blood Type           0\n",
              "Height_cm            0\n",
              "Weight_kg            0\n",
              "BMI                  0\n",
              "Medical Condition    0\n",
              "Test Results         0\n",
              "Symptom              0\n",
              "Smoking              0\n",
              "Alcohol Status       0\n",
              "Natural Food         0\n",
              "Yoga                 0\n",
              "dtype: int64"
            ],
            "text/html": [
              "<div>\n",
              "<style scoped>\n",
              "    .dataframe tbody tr th:only-of-type {\n",
              "        vertical-align: middle;\n",
              "    }\n",
              "\n",
              "    .dataframe tbody tr th {\n",
              "        vertical-align: top;\n",
              "    }\n",
              "\n",
              "    .dataframe thead th {\n",
              "        text-align: right;\n",
              "    }\n",
              "</style>\n",
              "<table border=\"1\" class=\"dataframe\">\n",
              "  <thead>\n",
              "    <tr style=\"text-align: right;\">\n",
              "      <th></th>\n",
              "      <th>0</th>\n",
              "    </tr>\n",
              "  </thead>\n",
              "  <tbody>\n",
              "    <tr>\n",
              "      <th>Age</th>\n",
              "      <td>0</td>\n",
              "    </tr>\n",
              "    <tr>\n",
              "      <th>Gender</th>\n",
              "      <td>0</td>\n",
              "    </tr>\n",
              "    <tr>\n",
              "      <th>Blood Type</th>\n",
              "      <td>0</td>\n",
              "    </tr>\n",
              "    <tr>\n",
              "      <th>Height_cm</th>\n",
              "      <td>0</td>\n",
              "    </tr>\n",
              "    <tr>\n",
              "      <th>Weight_kg</th>\n",
              "      <td>0</td>\n",
              "    </tr>\n",
              "    <tr>\n",
              "      <th>BMI</th>\n",
              "      <td>0</td>\n",
              "    </tr>\n",
              "    <tr>\n",
              "      <th>Medical Condition</th>\n",
              "      <td>0</td>\n",
              "    </tr>\n",
              "    <tr>\n",
              "      <th>Test Results</th>\n",
              "      <td>0</td>\n",
              "    </tr>\n",
              "    <tr>\n",
              "      <th>Symptom</th>\n",
              "      <td>0</td>\n",
              "    </tr>\n",
              "    <tr>\n",
              "      <th>Smoking</th>\n",
              "      <td>0</td>\n",
              "    </tr>\n",
              "    <tr>\n",
              "      <th>Alcohol Status</th>\n",
              "      <td>0</td>\n",
              "    </tr>\n",
              "    <tr>\n",
              "      <th>Natural Food</th>\n",
              "      <td>0</td>\n",
              "    </tr>\n",
              "    <tr>\n",
              "      <th>Yoga</th>\n",
              "      <td>0</td>\n",
              "    </tr>\n",
              "  </tbody>\n",
              "</table>\n",
              "</div><br><label><b>dtype:</b> int64</label>"
            ]
          },
          "metadata": {},
          "execution_count": 4
        }
      ]
    },
    {
      "cell_type": "code",
      "source": [
        "df.dropna(inplace=True)\n"
      ],
      "metadata": {
        "id": "4-RnX2HYNxkf"
      },
      "execution_count": null,
      "outputs": []
    },
    {
      "cell_type": "code",
      "source": [
        "df.duplicated().sum()\n",
        "df.drop_duplicates(inplace=True)\n",
        "\n"
      ],
      "metadata": {
        "id": "NX4v7cLhOB61"
      },
      "execution_count": null,
      "outputs": []
    },
    {
      "cell_type": "code",
      "source": [
        "df.columns = df.columns.str.strip().str.replace(' ', '_')\n",
        "\n"
      ],
      "metadata": {
        "id": "7Pzy37mtOkkI"
      },
      "execution_count": null,
      "outputs": []
    },
    {
      "cell_type": "code",
      "source": [
        "df['gender'] = df['gender'].str.capitalize()\n",
        "df['blood_type'] = df['blood_type'].str.upper()\n",
        "\n"
      ],
      "metadata": {
        "id": "08_G9283RH5p"
      },
      "execution_count": null,
      "outputs": []
    },
    {
      "cell_type": "code",
      "source": [
        "df = df[(df['age'] > 0) & (df['age'] < 120)]\n"
      ],
      "metadata": {
        "id": "4AQUzvjeRqXv"
      },
      "execution_count": null,
      "outputs": []
    },
    {
      "cell_type": "code",
      "source": [
        "\n",
        "df.columns = df.columns.str.strip()\n",
        "print(df.columns.tolist())\n"
      ],
      "metadata": {
        "colab": {
          "base_uri": "https://localhost:8080/"
        },
        "id": "RgAGkdARPkus",
        "outputId": "b35023f2-fe32-4c3d-bbf8-ea4c69695a71"
      },
      "execution_count": null,
      "outputs": [
        {
          "output_type": "stream",
          "name": "stdout",
          "text": [
            "['age', 'gender', 'blood_type', 'height_cm', 'weight_kg', 'bmi', 'medical_condition', 'test_results', 'symptom', 'smoking', 'alcohol_status', 'natural_food', 'yoga']\n"
          ]
        }
      ]
    },
    {
      "cell_type": "code",
      "source": [
        "df = df[(df['height_cm'] >= 100) & (df['height_cm'] <= 250)]\n",
        "df = df[(df['weight_kg'] >= 30) & (df['weight_kg'] <= 200)]\n",
        "\n",
        "\n",
        "\n"
      ],
      "metadata": {
        "id": "_zJW_KjcRzRK"
      },
      "execution_count": null,
      "outputs": []
    },
    {
      "cell_type": "code",
      "source": [
        "df = df[(df['bmi'] >= 10) & (df['bmi'] <= 60)]\n",
        "print(df.head())\n",
        "\n"
      ],
      "metadata": {
        "colab": {
          "base_uri": "https://localhost:8080/"
        },
        "id": "eglvFS67SbVS",
        "outputId": "a4f02f42-bb64-451c-a5fe-6831057a2028"
      },
      "execution_count": null,
      "outputs": [
        {
          "output_type": "stream",
          "name": "stdout",
          "text": [
            "   age  gender blood_type  height_cm  weight_kg    bmi medical_condition  \\\n",
            "0   30    Male         B-        188         83  23.48            Cancer   \n",
            "1   28  Female         O+        157         59  23.94          Diabetes   \n",
            "2   43  Female        AB+        170         60  20.76            Cancer   \n",
            "3   21  Female        AB-        168         52  18.42          Diabetes   \n",
            "4   20  Female         A+        172         64  21.63            Cancer   \n",
            "\n",
            "   test_results                                      symptom smoking  \\\n",
            "0        Normal                  Fatigue, Lumps, Weight loss      No   \n",
            "1      Abnormal  Frequent urination, Fatigue, Blurred vision     Yes   \n",
            "2      Abnormal                  Fatigue, Lumps, Weight loss      No   \n",
            "3  Inconclusive  Frequent urination, Fatigue, Blurred vision      No   \n",
            "4  Inconclusive                  Fatigue, Lumps, Weight loss      No   \n",
            "\n",
            "  alcohol_status                               natural_food  \\\n",
            "0            Yes  Cruciferous vegetables, Berries, Turmeric   \n",
            "1             No           Leafy greens, Whole grains, Nuts   \n",
            "2            Yes  Cruciferous vegetables, Berries, Turmeric   \n",
            "3             No           Leafy greens, Whole grains, Nuts   \n",
            "4            Yes  Cruciferous vegetables, Berries, Turmeric   \n",
            "\n",
            "                                yoga  \n",
            "0              Pranayama, Yoga Nidra  \n",
            "1  Dhanurasana, Ardha Matsyendrasana  \n",
            "2              Pranayama, Yoga Nidra  \n",
            "3  Dhanurasana, Ardha Matsyendrasana  \n",
            "4              Pranayama, Yoga Nidra  \n"
          ]
        }
      ]
    },
    {
      "cell_type": "code",
      "source": [
        "categorical_cols = ['medical_condition', 'test_results', 'smoking', 'alcohol_status']\n",
        "for col in categorical_cols:\n",
        "    df[col] = df[col].str.title()\n"
      ],
      "metadata": {
        "id": "tQGSoLZuS0Kg"
      },
      "execution_count": null,
      "outputs": []
    },
    {
      "cell_type": "code",
      "source": [
        "\n",
        "df['natural_food'] = df['natural_food'].apply(lambda x: [item.strip() for item in x])\n",
        "\n",
        "df['yoga'] = df['yoga'].apply(lambda x: [item.strip() for item in x])\n"
      ],
      "metadata": {
        "id": "JKHCg7lRTQMt"
      },
      "execution_count": null,
      "outputs": []
    },
    {
      "cell_type": "code",
      "source": [
        "print(df[['natural_food', 'yoga']].head())\n"
      ],
      "metadata": {
        "colab": {
          "base_uri": "https://localhost:8080/"
        },
        "id": "gGzJ9k93UZz_",
        "outputId": "81e92b7d-51ed-447a-896e-91a4c7bcea78"
      },
      "execution_count": null,
      "outputs": [
        {
          "output_type": "stream",
          "name": "stdout",
          "text": [
            "                                  natural_food  \\\n",
            "0  [Cruciferous vegetables, Berries, Turmeric]   \n",
            "1           [Leafy greens, Whole grains, Nuts]   \n",
            "2  [Cruciferous vegetables, Berries, Turmeric]   \n",
            "3           [Leafy greens, Whole grains, Nuts]   \n",
            "4  [Cruciferous vegetables, Berries, Turmeric]   \n",
            "\n",
            "                                  yoga  \n",
            "0              [Pranayama, Yoga Nidra]  \n",
            "1  [Dhanurasana, Ardha Matsyendrasana]  \n",
            "2              [Pranayama, Yoga Nidra]  \n",
            "3  [Dhanurasana, Ardha Matsyendrasana]  \n",
            "4              [Pranayama, Yoga Nidra]  \n"
          ]
        }
      ]
    },
    {
      "cell_type": "code",
      "source": [
        "multi_entry_cols = ['symptom', 'natural_food', 'yoga']\n",
        "for col in multi_entry_cols:\n",
        "    df[col] = df[col].apply(lambda x: [item.strip() for item in x.split(',')] if isinstance(x, str) else x)\n"
      ],
      "metadata": {
        "id": "-Z_GoE8CWPVM"
      },
      "execution_count": null,
      "outputs": []
    },
    {
      "cell_type": "code",
      "source": [
        "# Ensure 'age' is an integer\n",
        "df['age'] = df['age'].astype(int)\n",
        "\n",
        "# Ensure 'height' and 'weight' are floats\n",
        "df['height_cm'] = df['height_cm'].astype(float)\n",
        "df['weight_kg'] = df['weight_kg'].astype(float)\n",
        "\n",
        "# Ensure 'bmi' is a float\n",
        "df['bmi'] = df['bmi'].astype(float)\n"
      ],
      "metadata": {
        "id": "HbkJ1CuIbiLP"
      },
      "execution_count": null,
      "outputs": []
    },
    {
      "cell_type": "code",
      "source": [
        "# Check data types after conversion\n",
        "print(df.dtypes)\n"
      ],
      "metadata": {
        "colab": {
          "base_uri": "https://localhost:8080/"
        },
        "id": "hXdgweQRaSOf",
        "outputId": "1b0d84c9-5bf2-42b6-d4c6-b4dbcd862499"
      },
      "execution_count": null,
      "outputs": [
        {
          "output_type": "stream",
          "name": "stdout",
          "text": [
            "age                    int64\n",
            "height_cm            float64\n",
            "weight_kg            float64\n",
            "bmi                  float64\n",
            "medical_condition     object\n",
            "test_results          object\n",
            "symptom               object\n",
            "smoking               object\n",
            "alcohol_status        object\n",
            "natural_food          object\n",
            "yoga                  object\n",
            "gender_Male             bool\n",
            "blood_type_A-           bool\n",
            "blood_type_AB+          bool\n",
            "blood_type_AB-          bool\n",
            "blood_type_B+           bool\n",
            "blood_type_B-           bool\n",
            "blood_type_O+           bool\n",
            "blood_type_O-           bool\n",
            "dtype: object\n"
          ]
        }
      ]
    },
    {
      "cell_type": "code",
      "source": [
        "import numpy as np\n",
        "\n",
        "# Create a new 'blood_group' column based on the boolean blood group columns\n",
        "conditions = [\n",
        "    df['blood_type_A-'] == 1, df['blood_type_AB+'] == 1, df['blood_type_AB-'] == 1,\n",
        "    df['blood_type_B+'] == 1, df['blood_type_B-'] == 1, df['blood_type_O+'] == 1,\n",
        "    df['blood_type_O-'] == 1\n",
        "]\n",
        "\n",
        "choices = ['A-', 'AB+', 'AB-', 'B+', 'B-', 'O+', 'O-']\n",
        "\n",
        "# Assign values to 'blood_group' column\n",
        "df['blood_group'] = np.select(conditions, choices, default='Unknown')\n"
      ],
      "metadata": {
        "id": "dwruofCicPjt"
      },
      "execution_count": null,
      "outputs": []
    },
    {
      "cell_type": "code",
      "source": [
        "# Drop the individual blood group columns\n",
        "df.drop(columns=['blood_type_A-', 'blood_type_AB+', 'blood_type_AB-', 'blood_type_B+', 'blood_type_B-', 'blood_type_O+', 'blood_type_O-'], inplace=True)\n"
      ],
      "metadata": {
        "id": "NNloK08-ct9k"
      },
      "execution_count": null,
      "outputs": []
    },
    {
      "cell_type": "code",
      "source": [
        "# Check the first few rows to confirm the change\n",
        "print(df.head())\n",
        "\n",
        "# Check the column names to ensure that the individual blood type columns are removed\n",
        "print(df.columns)\n"
      ],
      "metadata": {
        "colab": {
          "base_uri": "https://localhost:8080/"
        },
        "id": "mXnk2lcFcxa8",
        "outputId": "a1442917-57e6-4087-c9d5-7a773494eef0"
      },
      "execution_count": null,
      "outputs": [
        {
          "output_type": "stream",
          "name": "stdout",
          "text": [
            "   age  height_cm  weight_kg    bmi medical_condition  test_results  \\\n",
            "0   30      188.0       83.0  23.48            Cancer        Normal   \n",
            "1   28      157.0       59.0  23.94          Diabetes      Abnormal   \n",
            "2   43      170.0       60.0  20.76            Cancer      Abnormal   \n",
            "3   21      168.0       52.0  18.42          Diabetes  Inconclusive   \n",
            "4   20      172.0       64.0  21.63            Cancer  Inconclusive   \n",
            "\n",
            "                                         symptom smoking alcohol_status  \\\n",
            "0                  [Fatigue, Lumps, Weight loss]      No            Yes   \n",
            "1  [Frequent urination, Fatigue, Blurred vision]     Yes             No   \n",
            "2                  [Fatigue, Lumps, Weight loss]      No            Yes   \n",
            "3  [Frequent urination, Fatigue, Blurred vision]      No             No   \n",
            "4                  [Fatigue, Lumps, Weight loss]      No            Yes   \n",
            "\n",
            "                                  natural_food  \\\n",
            "0  [Cruciferous vegetables, Berries, Turmeric]   \n",
            "1           [Leafy greens, Whole grains, Nuts]   \n",
            "2  [Cruciferous vegetables, Berries, Turmeric]   \n",
            "3           [Leafy greens, Whole grains, Nuts]   \n",
            "4  [Cruciferous vegetables, Berries, Turmeric]   \n",
            "\n",
            "                                  yoga  gender_Male blood_group  \n",
            "0              [Pranayama, Yoga Nidra]         True          B-  \n",
            "1  [Dhanurasana, Ardha Matsyendrasana]        False          O+  \n",
            "2              [Pranayama, Yoga Nidra]        False         AB+  \n",
            "3  [Dhanurasana, Ardha Matsyendrasana]        False         AB-  \n",
            "4              [Pranayama, Yoga Nidra]        False     Unknown  \n",
            "Index(['age', 'height_cm', 'weight_kg', 'bmi', 'medical_condition',\n",
            "       'test_results', 'symptom', 'smoking', 'alcohol_status', 'natural_food',\n",
            "       'yoga', 'gender_Male', 'blood_group'],\n",
            "      dtype='object')\n"
          ]
        }
      ]
    },
    {
      "cell_type": "code",
      "source": [
        "print(df['Blood_group'].value_counts(dropna=False))\n"
      ],
      "metadata": {
        "colab": {
          "base_uri": "https://localhost:8080/"
        },
        "id": "WRocBPmNgtc4",
        "outputId": "47c10e9e-d33d-4cef-cefa-4ee66958ec31"
      },
      "execution_count": null,
      "outputs": [
        {
          "output_type": "stream",
          "name": "stdout",
          "text": [
            "Blood_group\n",
            "Unknown    2399\n",
            "B+         2384\n",
            "AB-        2337\n",
            "A-         2301\n",
            "B-         2296\n",
            "AB+        2285\n",
            "O-         2271\n",
            "O+         2260\n",
            "Name: count, dtype: int64\n"
          ]
        }
      ]
    },
    {
      "cell_type": "code",
      "source": [
        "df['Blood_group'] = df['Blood_group'].replace('', np.nan)  # Convert empty strings to NaN\n",
        "df['Blood_group'] = df['Blood_group'].fillna('Unknown')\n",
        "\n"
      ],
      "metadata": {
        "id": "ZhMEeYhRhpvm"
      },
      "execution_count": null,
      "outputs": []
    },
    {
      "cell_type": "code",
      "source": [
        "df.head()\n",
        "df.isnull().sum()\n",
        "df.describe()\n"
      ],
      "metadata": {
        "colab": {
          "base_uri": "https://localhost:8080/",
          "height": 300
        },
        "id": "fTFQRt9Uc_kq",
        "outputId": "be0e09a2-23f6-42ae-9fb6-ae8c19c62f55"
      },
      "execution_count": null,
      "outputs": [
        {
          "output_type": "execute_result",
          "data": {
            "text/plain": [
              "                age     height_cm     weight_kg           bmi\n",
              "count  18533.000000  18533.000000  18533.000000  18533.000000\n",
              "mean      51.557654    169.985216     84.965629     29.832678\n",
              "std       19.540805     11.773365     20.452993      8.355826\n",
              "min       13.000000    150.000000     50.000000     13.850000\n",
              "25%       35.000000    160.000000     67.000000     23.230000\n",
              "50%       52.000000    170.000000     85.000000     29.170000\n",
              "75%       68.000000    180.000000    103.000000     35.690000\n",
              "max       89.000000    190.000000    120.000000     53.330000"
            ],
            "text/html": [
              "\n",
              "  <div id=\"df-518c498a-5fe4-4067-91ea-732a3c4a912e\" class=\"colab-df-container\">\n",
              "    <div>\n",
              "<style scoped>\n",
              "    .dataframe tbody tr th:only-of-type {\n",
              "        vertical-align: middle;\n",
              "    }\n",
              "\n",
              "    .dataframe tbody tr th {\n",
              "        vertical-align: top;\n",
              "    }\n",
              "\n",
              "    .dataframe thead th {\n",
              "        text-align: right;\n",
              "    }\n",
              "</style>\n",
              "<table border=\"1\" class=\"dataframe\">\n",
              "  <thead>\n",
              "    <tr style=\"text-align: right;\">\n",
              "      <th></th>\n",
              "      <th>age</th>\n",
              "      <th>height_cm</th>\n",
              "      <th>weight_kg</th>\n",
              "      <th>bmi</th>\n",
              "    </tr>\n",
              "  </thead>\n",
              "  <tbody>\n",
              "    <tr>\n",
              "      <th>count</th>\n",
              "      <td>18533.000000</td>\n",
              "      <td>18533.000000</td>\n",
              "      <td>18533.000000</td>\n",
              "      <td>18533.000000</td>\n",
              "    </tr>\n",
              "    <tr>\n",
              "      <th>mean</th>\n",
              "      <td>51.557654</td>\n",
              "      <td>169.985216</td>\n",
              "      <td>84.965629</td>\n",
              "      <td>29.832678</td>\n",
              "    </tr>\n",
              "    <tr>\n",
              "      <th>std</th>\n",
              "      <td>19.540805</td>\n",
              "      <td>11.773365</td>\n",
              "      <td>20.452993</td>\n",
              "      <td>8.355826</td>\n",
              "    </tr>\n",
              "    <tr>\n",
              "      <th>min</th>\n",
              "      <td>13.000000</td>\n",
              "      <td>150.000000</td>\n",
              "      <td>50.000000</td>\n",
              "      <td>13.850000</td>\n",
              "    </tr>\n",
              "    <tr>\n",
              "      <th>25%</th>\n",
              "      <td>35.000000</td>\n",
              "      <td>160.000000</td>\n",
              "      <td>67.000000</td>\n",
              "      <td>23.230000</td>\n",
              "    </tr>\n",
              "    <tr>\n",
              "      <th>50%</th>\n",
              "      <td>52.000000</td>\n",
              "      <td>170.000000</td>\n",
              "      <td>85.000000</td>\n",
              "      <td>29.170000</td>\n",
              "    </tr>\n",
              "    <tr>\n",
              "      <th>75%</th>\n",
              "      <td>68.000000</td>\n",
              "      <td>180.000000</td>\n",
              "      <td>103.000000</td>\n",
              "      <td>35.690000</td>\n",
              "    </tr>\n",
              "    <tr>\n",
              "      <th>max</th>\n",
              "      <td>89.000000</td>\n",
              "      <td>190.000000</td>\n",
              "      <td>120.000000</td>\n",
              "      <td>53.330000</td>\n",
              "    </tr>\n",
              "  </tbody>\n",
              "</table>\n",
              "</div>\n",
              "    <div class=\"colab-df-buttons\">\n",
              "\n",
              "  <div class=\"colab-df-container\">\n",
              "    <button class=\"colab-df-convert\" onclick=\"convertToInteractive('df-518c498a-5fe4-4067-91ea-732a3c4a912e')\"\n",
              "            title=\"Convert this dataframe to an interactive table.\"\n",
              "            style=\"display:none;\">\n",
              "\n",
              "  <svg xmlns=\"http://www.w3.org/2000/svg\" height=\"24px\" viewBox=\"0 -960 960 960\">\n",
              "    <path d=\"M120-120v-720h720v720H120Zm60-500h600v-160H180v160Zm220 220h160v-160H400v160Zm0 220h160v-160H400v160ZM180-400h160v-160H180v160Zm440 0h160v-160H620v160ZM180-180h160v-160H180v160Zm440 0h160v-160H620v160Z\"/>\n",
              "  </svg>\n",
              "    </button>\n",
              "\n",
              "  <style>\n",
              "    .colab-df-container {\n",
              "      display:flex;\n",
              "      gap: 12px;\n",
              "    }\n",
              "\n",
              "    .colab-df-convert {\n",
              "      background-color: #E8F0FE;\n",
              "      border: none;\n",
              "      border-radius: 50%;\n",
              "      cursor: pointer;\n",
              "      display: none;\n",
              "      fill: #1967D2;\n",
              "      height: 32px;\n",
              "      padding: 0 0 0 0;\n",
              "      width: 32px;\n",
              "    }\n",
              "\n",
              "    .colab-df-convert:hover {\n",
              "      background-color: #E2EBFA;\n",
              "      box-shadow: 0px 1px 2px rgba(60, 64, 67, 0.3), 0px 1px 3px 1px rgba(60, 64, 67, 0.15);\n",
              "      fill: #174EA6;\n",
              "    }\n",
              "\n",
              "    .colab-df-buttons div {\n",
              "      margin-bottom: 4px;\n",
              "    }\n",
              "\n",
              "    [theme=dark] .colab-df-convert {\n",
              "      background-color: #3B4455;\n",
              "      fill: #D2E3FC;\n",
              "    }\n",
              "\n",
              "    [theme=dark] .colab-df-convert:hover {\n",
              "      background-color: #434B5C;\n",
              "      box-shadow: 0px 1px 3px 1px rgba(0, 0, 0, 0.15);\n",
              "      filter: drop-shadow(0px 1px 2px rgba(0, 0, 0, 0.3));\n",
              "      fill: #FFFFFF;\n",
              "    }\n",
              "  </style>\n",
              "\n",
              "    <script>\n",
              "      const buttonEl =\n",
              "        document.querySelector('#df-518c498a-5fe4-4067-91ea-732a3c4a912e button.colab-df-convert');\n",
              "      buttonEl.style.display =\n",
              "        google.colab.kernel.accessAllowed ? 'block' : 'none';\n",
              "\n",
              "      async function convertToInteractive(key) {\n",
              "        const element = document.querySelector('#df-518c498a-5fe4-4067-91ea-732a3c4a912e');\n",
              "        const dataTable =\n",
              "          await google.colab.kernel.invokeFunction('convertToInteractive',\n",
              "                                                    [key], {});\n",
              "        if (!dataTable) return;\n",
              "\n",
              "        const docLinkHtml = 'Like what you see? Visit the ' +\n",
              "          '<a target=\"_blank\" href=https://colab.research.google.com/notebooks/data_table.ipynb>data table notebook</a>'\n",
              "          + ' to learn more about interactive tables.';\n",
              "        element.innerHTML = '';\n",
              "        dataTable['output_type'] = 'display_data';\n",
              "        await google.colab.output.renderOutput(dataTable, element);\n",
              "        const docLink = document.createElement('div');\n",
              "        docLink.innerHTML = docLinkHtml;\n",
              "        element.appendChild(docLink);\n",
              "      }\n",
              "    </script>\n",
              "  </div>\n",
              "\n",
              "\n",
              "    <div id=\"df-b2b8b781-5ff9-4871-839b-697ada7bd147\">\n",
              "      <button class=\"colab-df-quickchart\" onclick=\"quickchart('df-b2b8b781-5ff9-4871-839b-697ada7bd147')\"\n",
              "                title=\"Suggest charts\"\n",
              "                style=\"display:none;\">\n",
              "\n",
              "<svg xmlns=\"http://www.w3.org/2000/svg\" height=\"24px\"viewBox=\"0 0 24 24\"\n",
              "     width=\"24px\">\n",
              "    <g>\n",
              "        <path d=\"M19 3H5c-1.1 0-2 .9-2 2v14c0 1.1.9 2 2 2h14c1.1 0 2-.9 2-2V5c0-1.1-.9-2-2-2zM9 17H7v-7h2v7zm4 0h-2V7h2v10zm4 0h-2v-4h2v4z\"/>\n",
              "    </g>\n",
              "</svg>\n",
              "      </button>\n",
              "\n",
              "<style>\n",
              "  .colab-df-quickchart {\n",
              "      --bg-color: #E8F0FE;\n",
              "      --fill-color: #1967D2;\n",
              "      --hover-bg-color: #E2EBFA;\n",
              "      --hover-fill-color: #174EA6;\n",
              "      --disabled-fill-color: #AAA;\n",
              "      --disabled-bg-color: #DDD;\n",
              "  }\n",
              "\n",
              "  [theme=dark] .colab-df-quickchart {\n",
              "      --bg-color: #3B4455;\n",
              "      --fill-color: #D2E3FC;\n",
              "      --hover-bg-color: #434B5C;\n",
              "      --hover-fill-color: #FFFFFF;\n",
              "      --disabled-bg-color: #3B4455;\n",
              "      --disabled-fill-color: #666;\n",
              "  }\n",
              "\n",
              "  .colab-df-quickchart {\n",
              "    background-color: var(--bg-color);\n",
              "    border: none;\n",
              "    border-radius: 50%;\n",
              "    cursor: pointer;\n",
              "    display: none;\n",
              "    fill: var(--fill-color);\n",
              "    height: 32px;\n",
              "    padding: 0;\n",
              "    width: 32px;\n",
              "  }\n",
              "\n",
              "  .colab-df-quickchart:hover {\n",
              "    background-color: var(--hover-bg-color);\n",
              "    box-shadow: 0 1px 2px rgba(60, 64, 67, 0.3), 0 1px 3px 1px rgba(60, 64, 67, 0.15);\n",
              "    fill: var(--button-hover-fill-color);\n",
              "  }\n",
              "\n",
              "  .colab-df-quickchart-complete:disabled,\n",
              "  .colab-df-quickchart-complete:disabled:hover {\n",
              "    background-color: var(--disabled-bg-color);\n",
              "    fill: var(--disabled-fill-color);\n",
              "    box-shadow: none;\n",
              "  }\n",
              "\n",
              "  .colab-df-spinner {\n",
              "    border: 2px solid var(--fill-color);\n",
              "    border-color: transparent;\n",
              "    border-bottom-color: var(--fill-color);\n",
              "    animation:\n",
              "      spin 1s steps(1) infinite;\n",
              "  }\n",
              "\n",
              "  @keyframes spin {\n",
              "    0% {\n",
              "      border-color: transparent;\n",
              "      border-bottom-color: var(--fill-color);\n",
              "      border-left-color: var(--fill-color);\n",
              "    }\n",
              "    20% {\n",
              "      border-color: transparent;\n",
              "      border-left-color: var(--fill-color);\n",
              "      border-top-color: var(--fill-color);\n",
              "    }\n",
              "    30% {\n",
              "      border-color: transparent;\n",
              "      border-left-color: var(--fill-color);\n",
              "      border-top-color: var(--fill-color);\n",
              "      border-right-color: var(--fill-color);\n",
              "    }\n",
              "    40% {\n",
              "      border-color: transparent;\n",
              "      border-right-color: var(--fill-color);\n",
              "      border-top-color: var(--fill-color);\n",
              "    }\n",
              "    60% {\n",
              "      border-color: transparent;\n",
              "      border-right-color: var(--fill-color);\n",
              "    }\n",
              "    80% {\n",
              "      border-color: transparent;\n",
              "      border-right-color: var(--fill-color);\n",
              "      border-bottom-color: var(--fill-color);\n",
              "    }\n",
              "    90% {\n",
              "      border-color: transparent;\n",
              "      border-bottom-color: var(--fill-color);\n",
              "    }\n",
              "  }\n",
              "</style>\n",
              "\n",
              "      <script>\n",
              "        async function quickchart(key) {\n",
              "          const quickchartButtonEl =\n",
              "            document.querySelector('#' + key + ' button');\n",
              "          quickchartButtonEl.disabled = true;  // To prevent multiple clicks.\n",
              "          quickchartButtonEl.classList.add('colab-df-spinner');\n",
              "          try {\n",
              "            const charts = await google.colab.kernel.invokeFunction(\n",
              "                'suggestCharts', [key], {});\n",
              "          } catch (error) {\n",
              "            console.error('Error during call to suggestCharts:', error);\n",
              "          }\n",
              "          quickchartButtonEl.classList.remove('colab-df-spinner');\n",
              "          quickchartButtonEl.classList.add('colab-df-quickchart-complete');\n",
              "        }\n",
              "        (() => {\n",
              "          let quickchartButtonEl =\n",
              "            document.querySelector('#df-b2b8b781-5ff9-4871-839b-697ada7bd147 button');\n",
              "          quickchartButtonEl.style.display =\n",
              "            google.colab.kernel.accessAllowed ? 'block' : 'none';\n",
              "        })();\n",
              "      </script>\n",
              "    </div>\n",
              "\n",
              "    </div>\n",
              "  </div>\n"
            ],
            "application/vnd.google.colaboratory.intrinsic+json": {
              "type": "dataframe",
              "summary": "{\n  \"name\": \"df\",\n  \"rows\": 8,\n  \"fields\": [\n    {\n      \"column\": \"age\",\n      \"properties\": {\n        \"dtype\": \"number\",\n        \"std\": 6535.88055767932,\n        \"min\": 13.0,\n        \"max\": 18533.0,\n        \"num_unique_values\": 8,\n        \"samples\": [\n          51.557653914638756,\n          52.0,\n          18533.0\n        ],\n        \"semantic_type\": \"\",\n        \"description\": \"\"\n      }\n    },\n    {\n      \"column\": \"height_cm\",\n      \"properties\": {\n        \"dtype\": \"number\",\n        \"std\": 6500.540090696956,\n        \"min\": 11.77336517825448,\n        \"max\": 18533.0,\n        \"num_unique_values\": 8,\n        \"samples\": [\n          169.98521556143095,\n          170.0,\n          18533.0\n        ],\n        \"semantic_type\": \"\",\n        \"description\": \"\"\n      }\n    },\n    {\n      \"column\": \"weight_kg\",\n      \"properties\": {\n        \"dtype\": \"number\",\n        \"std\": 6525.68779397612,\n        \"min\": 20.45299252365547,\n        \"max\": 18533.0,\n        \"num_unique_values\": 8,\n        \"samples\": [\n          84.96562887821723,\n          85.0,\n          18533.0\n        ],\n        \"semantic_type\": \"\",\n        \"description\": \"\"\n      }\n    },\n    {\n      \"column\": \"bmi\",\n      \"properties\": {\n        \"dtype\": \"number\",\n        \"std\": 6542.648196981335,\n        \"min\": 8.355825818088247,\n        \"max\": 18533.0,\n        \"num_unique_values\": 8,\n        \"samples\": [\n          29.832677925861976,\n          29.17,\n          18533.0\n        ],\n        \"semantic_type\": \"\",\n        \"description\": \"\"\n      }\n    }\n  ]\n}"
            }
          },
          "metadata": {},
          "execution_count": 76
        }
      ]
    },
    {
      "cell_type": "code",
      "source": [
        "# Capitalize the first letter of each column name\n",
        "df.columns = df.columns.str.capitalize()\n"
      ],
      "metadata": {
        "id": "bDZfgAJ-d73R"
      },
      "execution_count": null,
      "outputs": []
    },
    {
      "cell_type": "code",
      "source": [
        "# Export DataFrame to Excel with bold column names using openpyxl\n",
        "with pd.ExcelWriter('cleaned_data.xlsx', engine='openpyxl') as writer:\n",
        "    df.to_excel(writer, index=False, sheet_name='Sheet1')\n",
        "    workbook  = writer.book\n",
        "    worksheet = writer.sheets['Sheet1']\n",
        "\n",
        "    # Set bold header format using openpyxl\n",
        "    from openpyxl.styles import Font\n",
        "    for cell in worksheet[1]:\n",
        "        cell.font = Font(bold=True)\n"
      ],
      "metadata": {
        "id": "ovPJ4ZLEeBDn"
      },
      "execution_count": null,
      "outputs": []
    },
    {
      "cell_type": "code",
      "source": [
        "from google.colab import drive\n",
        "drive.mount('/content/drive')"
      ],
      "metadata": {
        "id": "4JgDP-gCjjMI"
      },
      "execution_count": null,
      "outputs": []
    },
    {
      "cell_type": "code",
      "source": [
        "\n",
        "df.to_csv(\"cleaned_dataset.csv\", index=False)\n"
      ],
      "metadata": {
        "id": "jHBwS_kceYf-"
      },
      "execution_count": null,
      "outputs": []
    }
  ]
}