{
  "nbformat": 4,
  "nbformat_minor": 0,
  "metadata": {
    "colab": {
      "provenance": []
    },
    "kernelspec": {
      "name": "python3",
      "display_name": "Python 3"
    },
    "language_info": {
      "name": "python"
    }
  },
  "cells": [
    {
      "cell_type": "code",
      "execution_count": null,
      "metadata": {
        "id": "nvKXTzb15DJe"
      },
      "outputs": [],
      "source": [
        "import pandas as pd\n",
        "import numpy as np\n",
        "\n",
        "df = pd.read_csv(\"/content/Final dataset.csv\")\n"
      ]
    },
    {
      "cell_type": "code",
      "source": [
        "df = df.drop_duplicates()\n"
      ],
      "metadata": {
        "id": "3DpBCzxiB9il"
      },
      "execution_count": null,
      "outputs": []
    },
    {
      "cell_type": "code",
      "source": [
        "df = df.apply(lambda x: x.str.strip() if x.dtype == \"object\" else x)\n"
      ],
      "metadata": {
        "id": "_PjEcjKjCBpS"
      },
      "execution_count": null,
      "outputs": []
    },
    {
      "cell_type": "code",
      "source": [
        "df.replace('', np.nan, inplace=True)\n"
      ],
      "metadata": {
        "id": "zjB7DHufCFaf"
      },
      "execution_count": null,
      "outputs": []
    },
    {
      "cell_type": "code",
      "source": [
        "df = df.dropna()\n"
      ],
      "metadata": {
        "id": "a6CP70SWCKqr"
      },
      "execution_count": null,
      "outputs": []
    },
    {
      "cell_type": "code",
      "source": [
        "df = df.loc[:, df.isnull().mean() < 0.5]\n"
      ],
      "metadata": {
        "id": "TwvrYsieCQCO"
      },
      "execution_count": null,
      "outputs": []
    },
    {
      "cell_type": "code",
      "source": [
        "df.head()\n",
        "df.info()\n",
        "df.describe()\n"
      ],
      "metadata": {
        "colab": {
          "base_uri": "https://localhost:8080/",
          "height": 647
        },
        "id": "-NTwSJRfDUIy",
        "outputId": "ad0eb1ec-d975-41f0-f1ea-0eef417e548e"
      },
      "execution_count": null,
      "outputs": [
        {
          "output_type": "stream",
          "name": "stdout",
          "text": [
            "<class 'pandas.core.frame.DataFrame'>\n",
            "Index: 18530 entries, 0 to 18530\n",
            "Data columns (total 13 columns):\n",
            " #   Column             Non-Null Count  Dtype  \n",
            "---  ------             --------------  -----  \n",
            " 0   Age                18530 non-null  int64  \n",
            " 1   Gender             18530 non-null  object \n",
            " 2   Blood Type         18530 non-null  object \n",
            " 3   Medical Condition  18530 non-null  object \n",
            " 4   Test Results       18530 non-null  object \n",
            " 5   Height_cm          18530 non-null  int64  \n",
            " 6   Weight_kg          18530 non-null  int64  \n",
            " 7   BMI                18530 non-null  float64\n",
            " 8   Smoking            18530 non-null  object \n",
            " 9   Natural Food       18530 non-null  object \n",
            " 10  Yoga               18530 non-null  object \n",
            " 11  Symptom            18530 non-null  object \n",
            " 12  Alcohol Status     18530 non-null  object \n",
            "dtypes: float64(1), int64(3), object(9)\n",
            "memory usage: 2.0+ MB\n"
          ]
        },
        {
          "output_type": "execute_result",
          "data": {
            "text/plain": [
              "                Age     Height_cm     Weight_kg           BMI\n",
              "count  18530.000000  18530.000000  18530.000000  18530.000000\n",
              "mean      51.556287    169.985483     84.966972     29.833142\n",
              "std       19.542023     11.774032     20.454090      8.356411\n",
              "min       13.000000    150.000000     50.000000     13.850000\n",
              "25%       35.000000    160.000000     67.000000     23.230000\n",
              "50%       52.000000    170.000000     85.000000     29.170000\n",
              "75%       68.000000    180.000000    103.000000     35.690000\n",
              "max       89.000000    190.000000    120.000000     53.330000"
            ],
            "text/html": [
              "\n",
              "  <div id=\"df-11b39d1d-edf1-4a53-9e04-3db2fa3c388d\" class=\"colab-df-container\">\n",
              "    <div>\n",
              "<style scoped>\n",
              "    .dataframe tbody tr th:only-of-type {\n",
              "        vertical-align: middle;\n",
              "    }\n",
              "\n",
              "    .dataframe tbody tr th {\n",
              "        vertical-align: top;\n",
              "    }\n",
              "\n",
              "    .dataframe thead th {\n",
              "        text-align: right;\n",
              "    }\n",
              "</style>\n",
              "<table border=\"1\" class=\"dataframe\">\n",
              "  <thead>\n",
              "    <tr style=\"text-align: right;\">\n",
              "      <th></th>\n",
              "      <th>Age</th>\n",
              "      <th>Height_cm</th>\n",
              "      <th>Weight_kg</th>\n",
              "      <th>BMI</th>\n",
              "    </tr>\n",
              "  </thead>\n",
              "  <tbody>\n",
              "    <tr>\n",
              "      <th>count</th>\n",
              "      <td>18530.000000</td>\n",
              "      <td>18530.000000</td>\n",
              "      <td>18530.000000</td>\n",
              "      <td>18530.000000</td>\n",
              "    </tr>\n",
              "    <tr>\n",
              "      <th>mean</th>\n",
              "      <td>51.556287</td>\n",
              "      <td>169.985483</td>\n",
              "      <td>84.966972</td>\n",
              "      <td>29.833142</td>\n",
              "    </tr>\n",
              "    <tr>\n",
              "      <th>std</th>\n",
              "      <td>19.542023</td>\n",
              "      <td>11.774032</td>\n",
              "      <td>20.454090</td>\n",
              "      <td>8.356411</td>\n",
              "    </tr>\n",
              "    <tr>\n",
              "      <th>min</th>\n",
              "      <td>13.000000</td>\n",
              "      <td>150.000000</td>\n",
              "      <td>50.000000</td>\n",
              "      <td>13.850000</td>\n",
              "    </tr>\n",
              "    <tr>\n",
              "      <th>25%</th>\n",
              "      <td>35.000000</td>\n",
              "      <td>160.000000</td>\n",
              "      <td>67.000000</td>\n",
              "      <td>23.230000</td>\n",
              "    </tr>\n",
              "    <tr>\n",
              "      <th>50%</th>\n",
              "      <td>52.000000</td>\n",
              "      <td>170.000000</td>\n",
              "      <td>85.000000</td>\n",
              "      <td>29.170000</td>\n",
              "    </tr>\n",
              "    <tr>\n",
              "      <th>75%</th>\n",
              "      <td>68.000000</td>\n",
              "      <td>180.000000</td>\n",
              "      <td>103.000000</td>\n",
              "      <td>35.690000</td>\n",
              "    </tr>\n",
              "    <tr>\n",
              "      <th>max</th>\n",
              "      <td>89.000000</td>\n",
              "      <td>190.000000</td>\n",
              "      <td>120.000000</td>\n",
              "      <td>53.330000</td>\n",
              "    </tr>\n",
              "  </tbody>\n",
              "</table>\n",
              "</div>\n",
              "    <div class=\"colab-df-buttons\">\n",
              "\n",
              "  <div class=\"colab-df-container\">\n",
              "    <button class=\"colab-df-convert\" onclick=\"convertToInteractive('df-11b39d1d-edf1-4a53-9e04-3db2fa3c388d')\"\n",
              "            title=\"Convert this dataframe to an interactive table.\"\n",
              "            style=\"display:none;\">\n",
              "\n",
              "  <svg xmlns=\"http://www.w3.org/2000/svg\" height=\"24px\" viewBox=\"0 -960 960 960\">\n",
              "    <path d=\"M120-120v-720h720v720H120Zm60-500h600v-160H180v160Zm220 220h160v-160H400v160Zm0 220h160v-160H400v160ZM180-400h160v-160H180v160Zm440 0h160v-160H620v160ZM180-180h160v-160H180v160Zm440 0h160v-160H620v160Z\"/>\n",
              "  </svg>\n",
              "    </button>\n",
              "\n",
              "  <style>\n",
              "    .colab-df-container {\n",
              "      display:flex;\n",
              "      gap: 12px;\n",
              "    }\n",
              "\n",
              "    .colab-df-convert {\n",
              "      background-color: #E8F0FE;\n",
              "      border: none;\n",
              "      border-radius: 50%;\n",
              "      cursor: pointer;\n",
              "      display: none;\n",
              "      fill: #1967D2;\n",
              "      height: 32px;\n",
              "      padding: 0 0 0 0;\n",
              "      width: 32px;\n",
              "    }\n",
              "\n",
              "    .colab-df-convert:hover {\n",
              "      background-color: #E2EBFA;\n",
              "      box-shadow: 0px 1px 2px rgba(60, 64, 67, 0.3), 0px 1px 3px 1px rgba(60, 64, 67, 0.15);\n",
              "      fill: #174EA6;\n",
              "    }\n",
              "\n",
              "    .colab-df-buttons div {\n",
              "      margin-bottom: 4px;\n",
              "    }\n",
              "\n",
              "    [theme=dark] .colab-df-convert {\n",
              "      background-color: #3B4455;\n",
              "      fill: #D2E3FC;\n",
              "    }\n",
              "\n",
              "    [theme=dark] .colab-df-convert:hover {\n",
              "      background-color: #434B5C;\n",
              "      box-shadow: 0px 1px 3px 1px rgba(0, 0, 0, 0.15);\n",
              "      filter: drop-shadow(0px 1px 2px rgba(0, 0, 0, 0.3));\n",
              "      fill: #FFFFFF;\n",
              "    }\n",
              "  </style>\n",
              "\n",
              "    <script>\n",
              "      const buttonEl =\n",
              "        document.querySelector('#df-11b39d1d-edf1-4a53-9e04-3db2fa3c388d button.colab-df-convert');\n",
              "      buttonEl.style.display =\n",
              "        google.colab.kernel.accessAllowed ? 'block' : 'none';\n",
              "\n",
              "      async function convertToInteractive(key) {\n",
              "        const element = document.querySelector('#df-11b39d1d-edf1-4a53-9e04-3db2fa3c388d');\n",
              "        const dataTable =\n",
              "          await google.colab.kernel.invokeFunction('convertToInteractive',\n",
              "                                                    [key], {});\n",
              "        if (!dataTable) return;\n",
              "\n",
              "        const docLinkHtml = 'Like what you see? Visit the ' +\n",
              "          '<a target=\"_blank\" href=https://colab.research.google.com/notebooks/data_table.ipynb>data table notebook</a>'\n",
              "          + ' to learn more about interactive tables.';\n",
              "        element.innerHTML = '';\n",
              "        dataTable['output_type'] = 'display_data';\n",
              "        await google.colab.output.renderOutput(dataTable, element);\n",
              "        const docLink = document.createElement('div');\n",
              "        docLink.innerHTML = docLinkHtml;\n",
              "        element.appendChild(docLink);\n",
              "      }\n",
              "    </script>\n",
              "  </div>\n",
              "\n",
              "\n",
              "    <div id=\"df-43f8e573-8c8a-4d39-9512-50400c0b3e72\">\n",
              "      <button class=\"colab-df-quickchart\" onclick=\"quickchart('df-43f8e573-8c8a-4d39-9512-50400c0b3e72')\"\n",
              "                title=\"Suggest charts\"\n",
              "                style=\"display:none;\">\n",
              "\n",
              "<svg xmlns=\"http://www.w3.org/2000/svg\" height=\"24px\"viewBox=\"0 0 24 24\"\n",
              "     width=\"24px\">\n",
              "    <g>\n",
              "        <path d=\"M19 3H5c-1.1 0-2 .9-2 2v14c0 1.1.9 2 2 2h14c1.1 0 2-.9 2-2V5c0-1.1-.9-2-2-2zM9 17H7v-7h2v7zm4 0h-2V7h2v10zm4 0h-2v-4h2v4z\"/>\n",
              "    </g>\n",
              "</svg>\n",
              "      </button>\n",
              "\n",
              "<style>\n",
              "  .colab-df-quickchart {\n",
              "      --bg-color: #E8F0FE;\n",
              "      --fill-color: #1967D2;\n",
              "      --hover-bg-color: #E2EBFA;\n",
              "      --hover-fill-color: #174EA6;\n",
              "      --disabled-fill-color: #AAA;\n",
              "      --disabled-bg-color: #DDD;\n",
              "  }\n",
              "\n",
              "  [theme=dark] .colab-df-quickchart {\n",
              "      --bg-color: #3B4455;\n",
              "      --fill-color: #D2E3FC;\n",
              "      --hover-bg-color: #434B5C;\n",
              "      --hover-fill-color: #FFFFFF;\n",
              "      --disabled-bg-color: #3B4455;\n",
              "      --disabled-fill-color: #666;\n",
              "  }\n",
              "\n",
              "  .colab-df-quickchart {\n",
              "    background-color: var(--bg-color);\n",
              "    border: none;\n",
              "    border-radius: 50%;\n",
              "    cursor: pointer;\n",
              "    display: none;\n",
              "    fill: var(--fill-color);\n",
              "    height: 32px;\n",
              "    padding: 0;\n",
              "    width: 32px;\n",
              "  }\n",
              "\n",
              "  .colab-df-quickchart:hover {\n",
              "    background-color: var(--hover-bg-color);\n",
              "    box-shadow: 0 1px 2px rgba(60, 64, 67, 0.3), 0 1px 3px 1px rgba(60, 64, 67, 0.15);\n",
              "    fill: var(--button-hover-fill-color);\n",
              "  }\n",
              "\n",
              "  .colab-df-quickchart-complete:disabled,\n",
              "  .colab-df-quickchart-complete:disabled:hover {\n",
              "    background-color: var(--disabled-bg-color);\n",
              "    fill: var(--disabled-fill-color);\n",
              "    box-shadow: none;\n",
              "  }\n",
              "\n",
              "  .colab-df-spinner {\n",
              "    border: 2px solid var(--fill-color);\n",
              "    border-color: transparent;\n",
              "    border-bottom-color: var(--fill-color);\n",
              "    animation:\n",
              "      spin 1s steps(1) infinite;\n",
              "  }\n",
              "\n",
              "  @keyframes spin {\n",
              "    0% {\n",
              "      border-color: transparent;\n",
              "      border-bottom-color: var(--fill-color);\n",
              "      border-left-color: var(--fill-color);\n",
              "    }\n",
              "    20% {\n",
              "      border-color: transparent;\n",
              "      border-left-color: var(--fill-color);\n",
              "      border-top-color: var(--fill-color);\n",
              "    }\n",
              "    30% {\n",
              "      border-color: transparent;\n",
              "      border-left-color: var(--fill-color);\n",
              "      border-top-color: var(--fill-color);\n",
              "      border-right-color: var(--fill-color);\n",
              "    }\n",
              "    40% {\n",
              "      border-color: transparent;\n",
              "      border-right-color: var(--fill-color);\n",
              "      border-top-color: var(--fill-color);\n",
              "    }\n",
              "    60% {\n",
              "      border-color: transparent;\n",
              "      border-right-color: var(--fill-color);\n",
              "    }\n",
              "    80% {\n",
              "      border-color: transparent;\n",
              "      border-right-color: var(--fill-color);\n",
              "      border-bottom-color: var(--fill-color);\n",
              "    }\n",
              "    90% {\n",
              "      border-color: transparent;\n",
              "      border-bottom-color: var(--fill-color);\n",
              "    }\n",
              "  }\n",
              "</style>\n",
              "\n",
              "      <script>\n",
              "        async function quickchart(key) {\n",
              "          const quickchartButtonEl =\n",
              "            document.querySelector('#' + key + ' button');\n",
              "          quickchartButtonEl.disabled = true;  // To prevent multiple clicks.\n",
              "          quickchartButtonEl.classList.add('colab-df-spinner');\n",
              "          try {\n",
              "            const charts = await google.colab.kernel.invokeFunction(\n",
              "                'suggestCharts', [key], {});\n",
              "          } catch (error) {\n",
              "            console.error('Error during call to suggestCharts:', error);\n",
              "          }\n",
              "          quickchartButtonEl.classList.remove('colab-df-spinner');\n",
              "          quickchartButtonEl.classList.add('colab-df-quickchart-complete');\n",
              "        }\n",
              "        (() => {\n",
              "          let quickchartButtonEl =\n",
              "            document.querySelector('#df-43f8e573-8c8a-4d39-9512-50400c0b3e72 button');\n",
              "          quickchartButtonEl.style.display =\n",
              "            google.colab.kernel.accessAllowed ? 'block' : 'none';\n",
              "        })();\n",
              "      </script>\n",
              "    </div>\n",
              "\n",
              "    </div>\n",
              "  </div>\n"
            ],
            "application/vnd.google.colaboratory.intrinsic+json": {
              "type": "dataframe",
              "summary": "{\n  \"name\": \"df\",\n  \"rows\": 8,\n  \"fields\": [\n    {\n      \"column\": \"Age\",\n      \"properties\": {\n        \"dtype\": \"number\",\n        \"std\": 6534.819911817021,\n        \"min\": 13.0,\n        \"max\": 18530.0,\n        \"num_unique_values\": 8,\n        \"samples\": [\n          51.55628710199676,\n          52.0,\n          18530.0\n        ],\n        \"semantic_type\": \"\",\n        \"description\": \"\"\n      }\n    },\n    {\n      \"column\": \"Height_cm\",\n      \"properties\": {\n        \"dtype\": \"number\",\n        \"std\": 6499.479421752166,\n        \"min\": 11.774032094965614,\n        \"max\": 18530.0,\n        \"num_unique_values\": 8,\n        \"samples\": [\n          169.98548300053966,\n          170.0,\n          18530.0\n        ],\n        \"semantic_type\": \"\",\n        \"description\": \"\"\n      }\n    },\n    {\n      \"column\": \"Weight_kg\",\n      \"properties\": {\n        \"dtype\": \"number\",\n        \"std\": 6524.627021332985,\n        \"min\": 20.454089742808424,\n        \"max\": 18530.0,\n        \"num_unique_values\": 8,\n        \"samples\": [\n          84.96697247706422,\n          85.0,\n          18530.0\n        ],\n        \"semantic_type\": \"\",\n        \"description\": \"\"\n      }\n    },\n    {\n      \"column\": \"BMI\",\n      \"properties\": {\n        \"dtype\": \"number\",\n        \"std\": 6541.587485931852,\n        \"min\": 8.356410737530075,\n        \"max\": 18530.0,\n        \"num_unique_values\": 8,\n        \"samples\": [\n          29.833141932002157,\n          29.17,\n          18530.0\n        ],\n        \"semantic_type\": \"\",\n        \"description\": \"\"\n      }\n    }\n  ]\n}"
            }
          },
          "metadata": {},
          "execution_count": 9
        }
      ]
    },
    {
      "cell_type": "code",
      "source": [
        "df.isnull().sum()\n"
      ],
      "metadata": {
        "colab": {
          "base_uri": "https://localhost:8080/",
          "height": 491
        },
        "id": "VeqZyMcrESV7",
        "outputId": "b0b6ddde-3184-4490-cbfe-43a3d7bdfc0c"
      },
      "execution_count": null,
      "outputs": [
        {
          "output_type": "execute_result",
          "data": {
            "text/plain": [
              "Age                  0\n",
              "Gender               0\n",
              "Blood Type           0\n",
              "Medical Condition    0\n",
              "Test Results         0\n",
              "Height_cm            0\n",
              "Weight_kg            0\n",
              "BMI                  0\n",
              "Smoking              0\n",
              "Natural Food         0\n",
              "Yoga                 0\n",
              "Symptom              0\n",
              "Alcohol Status       0\n",
              "dtype: int64"
            ],
            "text/html": [
              "<div>\n",
              "<style scoped>\n",
              "    .dataframe tbody tr th:only-of-type {\n",
              "        vertical-align: middle;\n",
              "    }\n",
              "\n",
              "    .dataframe tbody tr th {\n",
              "        vertical-align: top;\n",
              "    }\n",
              "\n",
              "    .dataframe thead th {\n",
              "        text-align: right;\n",
              "    }\n",
              "</style>\n",
              "<table border=\"1\" class=\"dataframe\">\n",
              "  <thead>\n",
              "    <tr style=\"text-align: right;\">\n",
              "      <th></th>\n",
              "      <th>0</th>\n",
              "    </tr>\n",
              "  </thead>\n",
              "  <tbody>\n",
              "    <tr>\n",
              "      <th>Age</th>\n",
              "      <td>0</td>\n",
              "    </tr>\n",
              "    <tr>\n",
              "      <th>Gender</th>\n",
              "      <td>0</td>\n",
              "    </tr>\n",
              "    <tr>\n",
              "      <th>Blood Type</th>\n",
              "      <td>0</td>\n",
              "    </tr>\n",
              "    <tr>\n",
              "      <th>Medical Condition</th>\n",
              "      <td>0</td>\n",
              "    </tr>\n",
              "    <tr>\n",
              "      <th>Test Results</th>\n",
              "      <td>0</td>\n",
              "    </tr>\n",
              "    <tr>\n",
              "      <th>Height_cm</th>\n",
              "      <td>0</td>\n",
              "    </tr>\n",
              "    <tr>\n",
              "      <th>Weight_kg</th>\n",
              "      <td>0</td>\n",
              "    </tr>\n",
              "    <tr>\n",
              "      <th>BMI</th>\n",
              "      <td>0</td>\n",
              "    </tr>\n",
              "    <tr>\n",
              "      <th>Smoking</th>\n",
              "      <td>0</td>\n",
              "    </tr>\n",
              "    <tr>\n",
              "      <th>Natural Food</th>\n",
              "      <td>0</td>\n",
              "    </tr>\n",
              "    <tr>\n",
              "      <th>Yoga</th>\n",
              "      <td>0</td>\n",
              "    </tr>\n",
              "    <tr>\n",
              "      <th>Symptom</th>\n",
              "      <td>0</td>\n",
              "    </tr>\n",
              "    <tr>\n",
              "      <th>Alcohol Status</th>\n",
              "      <td>0</td>\n",
              "    </tr>\n",
              "  </tbody>\n",
              "</table>\n",
              "</div><br><label><b>dtype:</b> int64</label>"
            ]
          },
          "metadata": {},
          "execution_count": 12
        }
      ]
    },
    {
      "cell_type": "code",
      "source": [
        "binary_cols = ['smoking', 'alcohol_status']\n",
        "for col in binary_cols:\n",
        "    if col in df.columns:\n",
        "        df[col] = df[col].map({'yes': 1, 'no': 0})"
      ],
      "metadata": {
        "id": "5_ySx0_QEgHb"
      },
      "execution_count": null,
      "outputs": []
    },
    {
      "cell_type": "code",
      "source": [
        "df.columns = df.columns.str.capitalize()"
      ],
      "metadata": {
        "id": "8mvqwKjAGbS4"
      },
      "execution_count": null,
      "outputs": []
    },
    {
      "cell_type": "code",
      "source": [
        "df.columns = df.columns.str.strip().str.lower().str.replace(' ', '_')\n",
        "print(df[['natural_food', 'yoga']].head())\n"
      ],
      "metadata": {
        "colab": {
          "base_uri": "https://localhost:8080/"
        },
        "id": "zwXmeR57N55e",
        "outputId": "93c63953-b273-410c-d71f-3d3dff29a853"
      },
      "execution_count": null,
      "outputs": [
        {
          "output_type": "stream",
          "name": "stdout",
          "text": [
            "                                natural_food  \\\n",
            "0  Cruciferous vegetables, Berries, Turmeric   \n",
            "1           Leafy greens, Whole grains, Nuts   \n",
            "2  Cruciferous vegetables, Berries, Turmeric   \n",
            "3           Leafy greens, Whole grains, Nuts   \n",
            "4  Cruciferous vegetables, Berries, Turmeric   \n",
            "\n",
            "                                yoga  \n",
            "0              Pranayama, Yoga Nidra  \n",
            "1  Dhanurasana, Ardha Matsyendrasana  \n",
            "2              Pranayama, Yoga Nidra  \n",
            "3  Dhanurasana, Ardha Matsyendrasana  \n",
            "4              Pranayama, Yoga Nidra  \n"
          ]
        }
      ]
    },
    {
      "cell_type": "code",
      "source": [
        "print(df.dtypes)\n"
      ],
      "metadata": {
        "colab": {
          "base_uri": "https://localhost:8080/"
        },
        "id": "5zQqGdw6OYBh",
        "outputId": "ecf44726-1740-4b33-fd18-b6498fe0ff50"
      },
      "execution_count": null,
      "outputs": [
        {
          "output_type": "stream",
          "name": "stdout",
          "text": [
            "age                    int64\n",
            "gender                object\n",
            "blood_type            object\n",
            "medical_condition     object\n",
            "test_results          object\n",
            "height_cm              int64\n",
            "weight_kg              int64\n",
            "bmi                  float64\n",
            "smoking               object\n",
            "natural_food          object\n",
            "yoga                  object\n",
            "symptom               object\n",
            "alcohol_status        object\n",
            "dtype: object\n"
          ]
        }
      ]
    },
    {
      "cell_type": "code",
      "source": [
        "print(df.columns.tolist())\n"
      ],
      "metadata": {
        "colab": {
          "base_uri": "https://localhost:8080/"
        },
        "id": "90K-ME3vO_jN",
        "outputId": "b918ee57-6484-4289-8057-15f5392ebbba"
      },
      "execution_count": null,
      "outputs": [
        {
          "output_type": "stream",
          "name": "stdout",
          "text": [
            "['Age', 'Gender', 'Blood Type', 'Medical Condition', 'Test Results', 'Height_cm', 'Weight_kg', 'BMI', 'Smoking', 'Natural Food', 'Yoga', 'Symptom', 'Alcohol Status']\n"
          ]
        }
      ]
    },
    {
      "cell_type": "code",
      "source": [
        "print(df.head())\n",
        "print(df.columns)\n"
      ],
      "metadata": {
        "colab": {
          "base_uri": "https://localhost:8080/"
        },
        "id": "nStvpib-PK1_",
        "outputId": "14353d92-83e3-47e3-d054-8246600efc43"
      },
      "execution_count": null,
      "outputs": [
        {
          "output_type": "stream",
          "name": "stdout",
          "text": [
            "   Age  Gender Blood Type Medical Condition  Test Results  Height_cm  \\\n",
            "0   30    Male         B-            Cancer        Normal        188   \n",
            "1   28  Female         O+          Diabetes      Abnormal        157   \n",
            "2   43  Female        AB+            Cancer      Abnormal        170   \n",
            "3   21  Female        AB-          Diabetes  Inconclusive        168   \n",
            "4   20  Female         A+            Cancer  Inconclusive        172   \n",
            "\n",
            "   Weight_kg    BMI Smoking                               Natural Food  \\\n",
            "0         83  23.48      No  Cruciferous vegetables, Berries, Turmeric   \n",
            "1         59  23.94     Yes           Leafy greens, Whole grains, Nuts   \n",
            "2         60  20.76      No  Cruciferous vegetables, Berries, Turmeric   \n",
            "3         52  18.42      No           Leafy greens, Whole grains, Nuts   \n",
            "4         64  21.63      No  Cruciferous vegetables, Berries, Turmeric   \n",
            "\n",
            "                                Yoga  \\\n",
            "0              Pranayama, Yoga Nidra   \n",
            "1  Dhanurasana, Ardha Matsyendrasana   \n",
            "2              Pranayama, Yoga Nidra   \n",
            "3  Dhanurasana, Ardha Matsyendrasana   \n",
            "4              Pranayama, Yoga Nidra   \n",
            "\n",
            "                                       Symptom Alcohol Status  \n",
            "0                  Fatigue, Lumps, Weight loss            Yes  \n",
            "1  Frequent urination, Fatigue, Blurred vision             No  \n",
            "2                  Fatigue, Lumps, Weight loss            Yes  \n",
            "3  Frequent urination, Fatigue, Blurred vision             No  \n",
            "4                  Fatigue, Lumps, Weight loss            Yes  \n",
            "Index(['Age', 'Gender', 'Blood Type', 'Medical Condition', 'Test Results',\n",
            "       'Height_cm', 'Weight_kg', 'BMI', 'Smoking', 'Natural Food', 'Yoga',\n",
            "       'Symptom', 'Alcohol Status'],\n",
            "      dtype='object')\n"
          ]
        }
      ]
    },
    {
      "cell_type": "code",
      "source": [
        "df['Natural Food'] = df['Natural Food'].apply(lambda x: [item.strip() for item in x.split(',')])\n",
        "df['Yoga'] = df['Yoga'].apply(lambda x: [item.strip() for item in x.split(',')])\n"
      ],
      "metadata": {
        "id": "F6Z8uIKePlej"
      },
      "execution_count": null,
      "outputs": []
    },
    {
      "cell_type": "code",
      "source": [
        "print(df[['Natural Food', 'Yoga']].head())"
      ],
      "metadata": {
        "colab": {
          "base_uri": "https://localhost:8080/"
        },
        "id": "jL5UQGQTPxGC",
        "outputId": "a334ba30-8ab4-4a5c-ba52-d45972057d99"
      },
      "execution_count": null,
      "outputs": [
        {
          "output_type": "stream",
          "name": "stdout",
          "text": [
            "                                  Natural Food  \\\n",
            "0  [Cruciferous vegetables, Berries, Turmeric]   \n",
            "1           [Leafy greens, Whole grains, Nuts]   \n",
            "2  [Cruciferous vegetables, Berries, Turmeric]   \n",
            "3           [Leafy greens, Whole grains, Nuts]   \n",
            "4  [Cruciferous vegetables, Berries, Turmeric]   \n",
            "\n",
            "                                  Yoga  \n",
            "0              [Pranayama, Yoga Nidra]  \n",
            "1  [Dhanurasana, Ardha Matsyendrasana]  \n",
            "2              [Pranayama, Yoga Nidra]  \n",
            "3  [Dhanurasana, Ardha Matsyendrasana]  \n",
            "4              [Pranayama, Yoga Nidra]  \n"
          ]
        }
      ]
    },
    {
      "cell_type": "code",
      "source": [
        "with pd.ExcelWriter('cleaned_data.xlsx', engine='openpyxl') as writer:\n",
        "    df.to_excel(writer, index=False, sheet_name='Sheet1')\n",
        "    workbook  = writer.book\n",
        "    worksheet = writer.sheets['Sheet1']\n",
        "\n",
        "\n",
        "    from openpyxl.styles import Font\n",
        "    for cell in worksheet[1]:\n",
        "        cell.font = Font(bold=True)\n"
      ],
      "metadata": {
        "id": "EijQLOMeP9-S"
      },
      "execution_count": null,
      "outputs": []
    },
    {
      "cell_type": "code",
      "source": [
        "df.to_csv(\"cleaned_dataset.csv\", index=False)\n"
      ],
      "metadata": {
        "id": "IMC4tuaTVCXS"
      },
      "execution_count": null,
      "outputs": []
    }
  ]
}